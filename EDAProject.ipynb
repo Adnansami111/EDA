{
 "cells": [
  {
   "cell_type": "code",
   "execution_count": 1,
   "id": "66eb7a17-8e74-40f9-8254-8631aeae5747",
   "metadata": {},
   "outputs": [],
   "source": [
    "import pandas as pd"
   ]
  },
  {
   "cell_type": "code",
   "execution_count": 2,
   "id": "d73ead84-1966-4997-9cd9-315df0543996",
   "metadata": {},
   "outputs": [],
   "source": [
    "df=pd.read_excel(\"nulls_outliers_dataset.xlsx\")"
   ]
  },
  {
   "cell_type": "code",
   "execution_count": 3,
   "id": "4731dd94-7752-4388-8f91-775a383c0b7e",
   "metadata": {},
   "outputs": [
    {
     "data": {
      "text/html": [
       "<div>\n",
       "<style scoped>\n",
       "    .dataframe tbody tr th:only-of-type {\n",
       "        vertical-align: middle;\n",
       "    }\n",
       "\n",
       "    .dataframe tbody tr th {\n",
       "        vertical-align: top;\n",
       "    }\n",
       "\n",
       "    .dataframe thead th {\n",
       "        text-align: right;\n",
       "    }\n",
       "</style>\n",
       "<table border=\"1\" class=\"dataframe\">\n",
       "  <thead>\n",
       "    <tr style=\"text-align: right;\">\n",
       "      <th></th>\n",
       "      <th>Name</th>\n",
       "      <th>Age</th>\n",
       "      <th>Salary</th>\n",
       "      <th>Department</th>\n",
       "      <th>Joining_Date</th>\n",
       "      <th>Performance_Score</th>\n",
       "      <th>Email</th>\n",
       "    </tr>\n",
       "  </thead>\n",
       "  <tbody>\n",
       "    <tr>\n",
       "      <th>0</th>\n",
       "      <td>Employee_0</td>\n",
       "      <td>39.0</td>\n",
       "      <td>90990.331549</td>\n",
       "      <td>Engineering</td>\n",
       "      <td>2010-01-01</td>\n",
       "      <td>4.034008</td>\n",
       "      <td>employee0@company.com</td>\n",
       "    </tr>\n",
       "    <tr>\n",
       "      <th>1</th>\n",
       "      <td>Employee_1</td>\n",
       "      <td>33.0</td>\n",
       "      <td>83869.505244</td>\n",
       "      <td>NaN</td>\n",
       "      <td>2010-01-02</td>\n",
       "      <td>NaN</td>\n",
       "      <td>employee1@company.com</td>\n",
       "    </tr>\n",
       "    <tr>\n",
       "      <th>2</th>\n",
       "      <td>Employee_2</td>\n",
       "      <td>41.0</td>\n",
       "      <td>70894.455549</td>\n",
       "      <td>Engineering</td>\n",
       "      <td>2010-01-03</td>\n",
       "      <td>1.828969</td>\n",
       "      <td>employee2@company.com</td>\n",
       "    </tr>\n",
       "    <tr>\n",
       "      <th>3</th>\n",
       "      <td>NaN</td>\n",
       "      <td>50.0</td>\n",
       "      <td>60295.948334</td>\n",
       "      <td>Sales</td>\n",
       "      <td>2010-01-04</td>\n",
       "      <td>3.852943</td>\n",
       "      <td>NaN</td>\n",
       "    </tr>\n",
       "    <tr>\n",
       "      <th>4</th>\n",
       "      <td>NaN</td>\n",
       "      <td>32.0</td>\n",
       "      <td>NaN</td>\n",
       "      <td>NaN</td>\n",
       "      <td>2010-01-05</td>\n",
       "      <td>2.546481</td>\n",
       "      <td>employee4@company.com</td>\n",
       "    </tr>\n",
       "    <tr>\n",
       "      <th>...</th>\n",
       "      <td>...</td>\n",
       "      <td>...</td>\n",
       "      <td>...</td>\n",
       "      <td>...</td>\n",
       "      <td>...</td>\n",
       "      <td>...</td>\n",
       "      <td>...</td>\n",
       "    </tr>\n",
       "    <tr>\n",
       "      <th>995</th>\n",
       "      <td>Employee_995</td>\n",
       "      <td>32.0</td>\n",
       "      <td>NaN</td>\n",
       "      <td>Finance</td>\n",
       "      <td>2012-09-22</td>\n",
       "      <td>4.580261</td>\n",
       "      <td>employee995@company.com</td>\n",
       "    </tr>\n",
       "    <tr>\n",
       "      <th>996</th>\n",
       "      <td>Employee_996</td>\n",
       "      <td>52.0</td>\n",
       "      <td>69602.181111</td>\n",
       "      <td>NaN</td>\n",
       "      <td>2012-09-23</td>\n",
       "      <td>1.596563</td>\n",
       "      <td>employee996@company.com</td>\n",
       "    </tr>\n",
       "    <tr>\n",
       "      <th>997</th>\n",
       "      <td>Employee_997</td>\n",
       "      <td>41.0</td>\n",
       "      <td>56771.880232</td>\n",
       "      <td>Marketing</td>\n",
       "      <td>2012-09-24</td>\n",
       "      <td>4.143701</td>\n",
       "      <td>employee997@company.com</td>\n",
       "    </tr>\n",
       "    <tr>\n",
       "      <th>998</th>\n",
       "      <td>Employee_998</td>\n",
       "      <td>29.0</td>\n",
       "      <td>67553.995541</td>\n",
       "      <td>Marketing</td>\n",
       "      <td>2012-09-25</td>\n",
       "      <td>3.471726</td>\n",
       "      <td>employee998@company.com</td>\n",
       "    </tr>\n",
       "    <tr>\n",
       "      <th>999</th>\n",
       "      <td>NaN</td>\n",
       "      <td>40.0</td>\n",
       "      <td>58826.460328</td>\n",
       "      <td>Finance</td>\n",
       "      <td>NaT</td>\n",
       "      <td>2.367389</td>\n",
       "      <td>NaN</td>\n",
       "    </tr>\n",
       "  </tbody>\n",
       "</table>\n",
       "<p>1000 rows × 7 columns</p>\n",
       "</div>"
      ],
      "text/plain": [
       "             Name   Age        Salary   Department Joining_Date  \\\n",
       "0      Employee_0  39.0  90990.331549  Engineering   2010-01-01   \n",
       "1      Employee_1  33.0  83869.505244          NaN   2010-01-02   \n",
       "2      Employee_2  41.0  70894.455549  Engineering   2010-01-03   \n",
       "3             NaN  50.0  60295.948334        Sales   2010-01-04   \n",
       "4             NaN  32.0           NaN          NaN   2010-01-05   \n",
       "..            ...   ...           ...          ...          ...   \n",
       "995  Employee_995  32.0           NaN      Finance   2012-09-22   \n",
       "996  Employee_996  52.0  69602.181111          NaN   2012-09-23   \n",
       "997  Employee_997  41.0  56771.880232    Marketing   2012-09-24   \n",
       "998  Employee_998  29.0  67553.995541    Marketing   2012-09-25   \n",
       "999           NaN  40.0  58826.460328      Finance          NaT   \n",
       "\n",
       "     Performance_Score                    Email  \n",
       "0             4.034008    employee0@company.com  \n",
       "1                  NaN    employee1@company.com  \n",
       "2             1.828969    employee2@company.com  \n",
       "3             3.852943                      NaN  \n",
       "4             2.546481    employee4@company.com  \n",
       "..                 ...                      ...  \n",
       "995           4.580261  employee995@company.com  \n",
       "996           1.596563  employee996@company.com  \n",
       "997           4.143701  employee997@company.com  \n",
       "998           3.471726  employee998@company.com  \n",
       "999           2.367389                      NaN  \n",
       "\n",
       "[1000 rows x 7 columns]"
      ]
     },
     "execution_count": 3,
     "metadata": {},
     "output_type": "execute_result"
    }
   ],
   "source": [
    "df"
   ]
  },
  {
   "cell_type": "code",
   "execution_count": 4,
   "id": "b7818c61-2edf-41b5-8c4a-74fa39df4542",
   "metadata": {},
   "outputs": [
    {
     "data": {
      "text/html": [
       "<div>\n",
       "<style scoped>\n",
       "    .dataframe tbody tr th:only-of-type {\n",
       "        vertical-align: middle;\n",
       "    }\n",
       "\n",
       "    .dataframe tbody tr th {\n",
       "        vertical-align: top;\n",
       "    }\n",
       "\n",
       "    .dataframe thead th {\n",
       "        text-align: right;\n",
       "    }\n",
       "</style>\n",
       "<table border=\"1\" class=\"dataframe\">\n",
       "  <thead>\n",
       "    <tr style=\"text-align: right;\">\n",
       "      <th></th>\n",
       "      <th>Name</th>\n",
       "      <th>Age</th>\n",
       "      <th>Salary</th>\n",
       "      <th>Department</th>\n",
       "      <th>Joining_Date</th>\n",
       "      <th>Performance_Score</th>\n",
       "      <th>Email</th>\n",
       "    </tr>\n",
       "  </thead>\n",
       "  <tbody>\n",
       "    <tr>\n",
       "      <th>0</th>\n",
       "      <td>Employee_0</td>\n",
       "      <td>39.0</td>\n",
       "      <td>90990.331549</td>\n",
       "      <td>Engineering</td>\n",
       "      <td>2010-01-01</td>\n",
       "      <td>4.034008</td>\n",
       "      <td>employee0@company.com</td>\n",
       "    </tr>\n",
       "    <tr>\n",
       "      <th>1</th>\n",
       "      <td>Employee_1</td>\n",
       "      <td>33.0</td>\n",
       "      <td>83869.505244</td>\n",
       "      <td>NaN</td>\n",
       "      <td>2010-01-02</td>\n",
       "      <td>NaN</td>\n",
       "      <td>employee1@company.com</td>\n",
       "    </tr>\n",
       "    <tr>\n",
       "      <th>2</th>\n",
       "      <td>Employee_2</td>\n",
       "      <td>41.0</td>\n",
       "      <td>70894.455549</td>\n",
       "      <td>Engineering</td>\n",
       "      <td>2010-01-03</td>\n",
       "      <td>1.828969</td>\n",
       "      <td>employee2@company.com</td>\n",
       "    </tr>\n",
       "    <tr>\n",
       "      <th>3</th>\n",
       "      <td>NaN</td>\n",
       "      <td>50.0</td>\n",
       "      <td>60295.948334</td>\n",
       "      <td>Sales</td>\n",
       "      <td>2010-01-04</td>\n",
       "      <td>3.852943</td>\n",
       "      <td>NaN</td>\n",
       "    </tr>\n",
       "    <tr>\n",
       "      <th>4</th>\n",
       "      <td>NaN</td>\n",
       "      <td>32.0</td>\n",
       "      <td>NaN</td>\n",
       "      <td>NaN</td>\n",
       "      <td>2010-01-05</td>\n",
       "      <td>2.546481</td>\n",
       "      <td>employee4@company.com</td>\n",
       "    </tr>\n",
       "  </tbody>\n",
       "</table>\n",
       "</div>"
      ],
      "text/plain": [
       "         Name   Age        Salary   Department Joining_Date  \\\n",
       "0  Employee_0  39.0  90990.331549  Engineering   2010-01-01   \n",
       "1  Employee_1  33.0  83869.505244          NaN   2010-01-02   \n",
       "2  Employee_2  41.0  70894.455549  Engineering   2010-01-03   \n",
       "3         NaN  50.0  60295.948334        Sales   2010-01-04   \n",
       "4         NaN  32.0           NaN          NaN   2010-01-05   \n",
       "\n",
       "   Performance_Score                  Email  \n",
       "0           4.034008  employee0@company.com  \n",
       "1                NaN  employee1@company.com  \n",
       "2           1.828969  employee2@company.com  \n",
       "3           3.852943                    NaN  \n",
       "4           2.546481  employee4@company.com  "
      ]
     },
     "execution_count": 4,
     "metadata": {},
     "output_type": "execute_result"
    }
   ],
   "source": [
    "df.head()"
   ]
  },
  {
   "cell_type": "code",
   "execution_count": 5,
   "id": "9f8a1a7a-3b4c-48b4-8fcf-977c6d614a31",
   "metadata": {},
   "outputs": [
    {
     "data": {
      "text/html": [
       "<div>\n",
       "<style scoped>\n",
       "    .dataframe tbody tr th:only-of-type {\n",
       "        vertical-align: middle;\n",
       "    }\n",
       "\n",
       "    .dataframe tbody tr th {\n",
       "        vertical-align: top;\n",
       "    }\n",
       "\n",
       "    .dataframe thead th {\n",
       "        text-align: right;\n",
       "    }\n",
       "</style>\n",
       "<table border=\"1\" class=\"dataframe\">\n",
       "  <thead>\n",
       "    <tr style=\"text-align: right;\">\n",
       "      <th></th>\n",
       "      <th>Name</th>\n",
       "      <th>Age</th>\n",
       "      <th>Salary</th>\n",
       "      <th>Department</th>\n",
       "      <th>Joining_Date</th>\n",
       "      <th>Performance_Score</th>\n",
       "      <th>Email</th>\n",
       "    </tr>\n",
       "  </thead>\n",
       "  <tbody>\n",
       "    <tr>\n",
       "      <th>995</th>\n",
       "      <td>Employee_995</td>\n",
       "      <td>32.0</td>\n",
       "      <td>NaN</td>\n",
       "      <td>Finance</td>\n",
       "      <td>2012-09-22</td>\n",
       "      <td>4.580261</td>\n",
       "      <td>employee995@company.com</td>\n",
       "    </tr>\n",
       "    <tr>\n",
       "      <th>996</th>\n",
       "      <td>Employee_996</td>\n",
       "      <td>52.0</td>\n",
       "      <td>69602.181111</td>\n",
       "      <td>NaN</td>\n",
       "      <td>2012-09-23</td>\n",
       "      <td>1.596563</td>\n",
       "      <td>employee996@company.com</td>\n",
       "    </tr>\n",
       "    <tr>\n",
       "      <th>997</th>\n",
       "      <td>Employee_997</td>\n",
       "      <td>41.0</td>\n",
       "      <td>56771.880232</td>\n",
       "      <td>Marketing</td>\n",
       "      <td>2012-09-24</td>\n",
       "      <td>4.143701</td>\n",
       "      <td>employee997@company.com</td>\n",
       "    </tr>\n",
       "    <tr>\n",
       "      <th>998</th>\n",
       "      <td>Employee_998</td>\n",
       "      <td>29.0</td>\n",
       "      <td>67553.995541</td>\n",
       "      <td>Marketing</td>\n",
       "      <td>2012-09-25</td>\n",
       "      <td>3.471726</td>\n",
       "      <td>employee998@company.com</td>\n",
       "    </tr>\n",
       "    <tr>\n",
       "      <th>999</th>\n",
       "      <td>NaN</td>\n",
       "      <td>40.0</td>\n",
       "      <td>58826.460328</td>\n",
       "      <td>Finance</td>\n",
       "      <td>NaT</td>\n",
       "      <td>2.367389</td>\n",
       "      <td>NaN</td>\n",
       "    </tr>\n",
       "  </tbody>\n",
       "</table>\n",
       "</div>"
      ],
      "text/plain": [
       "             Name   Age        Salary Department Joining_Date  \\\n",
       "995  Employee_995  32.0           NaN    Finance   2012-09-22   \n",
       "996  Employee_996  52.0  69602.181111        NaN   2012-09-23   \n",
       "997  Employee_997  41.0  56771.880232  Marketing   2012-09-24   \n",
       "998  Employee_998  29.0  67553.995541  Marketing   2012-09-25   \n",
       "999           NaN  40.0  58826.460328    Finance          NaT   \n",
       "\n",
       "     Performance_Score                    Email  \n",
       "995           4.580261  employee995@company.com  \n",
       "996           1.596563  employee996@company.com  \n",
       "997           4.143701  employee997@company.com  \n",
       "998           3.471726  employee998@company.com  \n",
       "999           2.367389                      NaN  "
      ]
     },
     "execution_count": 5,
     "metadata": {},
     "output_type": "execute_result"
    }
   ],
   "source": [
    "df.tail()"
   ]
  },
  {
   "cell_type": "code",
   "execution_count": 6,
   "id": "efbdfc17-98ae-4896-8908-45817b8fa732",
   "metadata": {},
   "outputs": [
    {
     "name": "stdout",
     "output_type": "stream",
     "text": [
      "<class 'pandas.core.frame.DataFrame'>\n",
      "RangeIndex: 1000 entries, 0 to 999\n",
      "Data columns (total 7 columns):\n",
      " #   Column             Non-Null Count  Dtype         \n",
      "---  ------             --------------  -----         \n",
      " 0   Name               900 non-null    object        \n",
      " 1   Age                900 non-null    float64       \n",
      " 2   Salary             901 non-null    float64       \n",
      " 3   Department         900 non-null    object        \n",
      " 4   Joining_Date       900 non-null    datetime64[ns]\n",
      " 5   Performance_Score  902 non-null    float64       \n",
      " 6   Email              900 non-null    object        \n",
      "dtypes: datetime64[ns](1), float64(3), object(3)\n",
      "memory usage: 54.8+ KB\n"
     ]
    }
   ],
   "source": [
    "df.info()"
   ]
  },
  {
   "cell_type": "code",
   "execution_count": 7,
   "id": "a5ee7fa1-9831-44f4-b2ca-729a355a981e",
   "metadata": {},
   "outputs": [
    {
     "data": {
      "text/plain": [
       "Name                 100\n",
       "Age                  100\n",
       "Salary                99\n",
       "Department           100\n",
       "Joining_Date         100\n",
       "Performance_Score     98\n",
       "Email                100\n",
       "dtype: int64"
      ]
     },
     "execution_count": 7,
     "metadata": {},
     "output_type": "execute_result"
    }
   ],
   "source": [
    "df.isnull().sum()"
   ]
  },
  {
   "cell_type": "code",
   "execution_count": 8,
   "id": "d1f050ed-7208-460f-b6c4-79ae002e3db3",
   "metadata": {},
   "outputs": [
    {
     "data": {
      "text/plain": [
       "(1000, 7)"
      ]
     },
     "execution_count": 8,
     "metadata": {},
     "output_type": "execute_result"
    }
   ],
   "source": [
    "df.shape"
   ]
  },
  {
   "cell_type": "code",
   "execution_count": 9,
   "id": "fc7c2a57-f854-442b-9b9d-545afc286a70",
   "metadata": {},
   "outputs": [
    {
     "data": {
      "text/plain": [
       "Index(['Name', 'Age', 'Salary', 'Department', 'Joining_Date',\n",
       "       'Performance_Score', 'Email'],\n",
       "      dtype='object')"
      ]
     },
     "execution_count": 9,
     "metadata": {},
     "output_type": "execute_result"
    }
   ],
   "source": [
    "df.columns"
   ]
  },
  {
   "cell_type": "code",
   "execution_count": 10,
   "id": "32926495-3ead-4448-8e89-9f503642f771",
   "metadata": {},
   "outputs": [
    {
     "data": {
      "image/png": "[encoded data removed]",
      "text/plain": [
       "<Figure size 900x400 with 1 Axes>"
      ]
     },
     "metadata": {},
     "output_type": "display_data"
    },
    {
     "data": {
      "image/png": "[encoded data removed]",
      "text/plain": [
       "<Figure size 900x400 with 1 Axes>"
      ]
     },
     "metadata": {},
     "output_type": "display_data"
    },
    {
     "data": {
      "image/png": "[encoded data removed]",
      "text/plain": [
       "<Figure size 900x400 with 1 Axes>"
      ]
     },
     "metadata": {},
     "output_type": "display_data"
    }
   ],
   "source": [
    "import seaborn as sns \n",
    "import matplotlib.pyplot as plt\n",
    "columns=[ 'Age', 'Salary','Performance_Score',]\n",
    "for col in columns:\n",
    "    plt.figure(figsize=(9,4))\n",
    "    sns.histplot(df[col],kde=True)\n",
    "    plt.title(f\"Distribution of {col}\")\n",
    "    plt.xlabel(col)\n",
    "    plt.ylabel(\"frequency\")\n",
    "    plt.grid(True)\n",
    "    plt.tight_layout()\n",
    "    plt.show()"
   ]
  },
  {
   "cell_type": "code",
   "execution_count": 11,
   "id": "d223712c-7958-4057-82e6-6deb45e563df",
   "metadata": {},
   "outputs": [],
   "source": [
    "df[\"Age\"]=df[\"Age\"].fillna(df[\"Age\"].median())"
   ]
  },
  {
   "cell_type": "code",
   "execution_count": 12,
   "id": "0159f29f-49b0-40b1-a551-8fd72b2d0758",
   "metadata": {},
   "outputs": [
    {
     "data": {
      "text/plain": [
       "Name                 100\n",
       "Age                    0\n",
       "Salary                99\n",
       "Department           100\n",
       "Joining_Date         100\n",
       "Performance_Score     98\n",
       "Email                100\n",
       "dtype: int64"
      ]
     },
     "execution_count": 12,
     "metadata": {},
     "output_type": "execute_result"
    }
   ],
   "source": [
    "df.isnull().sum()"
   ]
  },
  {
   "cell_type": "code",
   "execution_count": 13,
   "id": "50f1e716-0cbd-427e-984c-52322e4526d7",
   "metadata": {},
   "outputs": [],
   "source": [
    "df[\"Salary\"]=df[\"Salary\"].fillna(df[\"Salary\"].median())"
   ]
  },
  {
   "cell_type": "code",
   "execution_count": 14,
   "id": "02e621ab-a46b-4f1d-9297-32db1719dd8e",
   "metadata": {},
   "outputs": [],
   "source": [
    "df[\"Performance_Score\"]=df[\"Performance_Score\"].fillna(df[\"Performance_Score\"].median())"
   ]
  },
  {
   "cell_type": "code",
   "execution_count": 15,
   "id": "cfea63a4-e0d4-4c63-a9ec-3f123386a13b",
   "metadata": {},
   "outputs": [
    {
     "data": {
      "text/plain": [
       "Name                 100\n",
       "Age                    0\n",
       "Salary                 0\n",
       "Department           100\n",
       "Joining_Date         100\n",
       "Performance_Score      0\n",
       "Email                100\n",
       "dtype: int64"
      ]
     },
     "execution_count": 15,
     "metadata": {},
     "output_type": "execute_result"
    }
   ],
   "source": [
    "df.isnull().sum()"
   ]
  },
  {
   "cell_type": "code",
   "execution_count": 16,
   "id": "3f1330df-844a-41c0-b5bf-e041193286fa",
   "metadata": {},
   "outputs": [
    {
     "name": "stdout",
     "output_type": "stream",
     "text": [
      "33\n"
     ]
    }
   ],
   "source": [
    "#outliers \n",
    "col=\"Age\"\n",
    "Q1=df[col].quantile(0.25)\n",
    "Q3=df[col].quantile(0.75)\n",
    "IQR=Q3-Q1\n",
    "LOWER_BOUND = Q1-1.5*IQR\n",
    "UPPER_BOUND = Q3+1.5*IQR\n",
    "outliers = df[(df[col] < LOWER_BOUND) | (df[col] > UPPER_BOUND)] \n",
    "print(outliers.shape[0])"
   ]
  },
  {
   "cell_type": "code",
   "execution_count": 17,
   "id": "9b897c25-4aa6-4463-baef-b98ecdd41aaa",
   "metadata": {},
   "outputs": [
    {
     "name": "stdout",
     "output_type": "stream",
     "text": [
      "40\n"
     ]
    }
   ],
   "source": [
    "#outliers \n",
    "col=\"Salary\"\n",
    "Q1=df[col].quantile(0.25)\n",
    "Q3=df[col].quantile(0.75)\n",
    "IQR=Q3-Q1\n",
    "LOWER_BOUND = Q1-1.5*IQR\n",
    "UPPER_BOUND = Q3+1.5*IQR\n",
    "outliers = df[(df[col] < LOWER_BOUND) | (df[col] > UPPER_BOUND)] \n",
    "print(outliers.shape[0])"
   ]
  },
  {
   "cell_type": "code",
   "execution_count": 18,
   "id": "81418184-2a8b-4db3-8749-b3e353517498",
   "metadata": {},
   "outputs": [
    {
     "name": "stdout",
     "output_type": "stream",
     "text": [
      "20\n"
     ]
    }
   ],
   "source": [
    "#outliers \n",
    "col=\"Performance_Score\"\n",
    "Q1=df[col].quantile(0.25)\n",
    "Q3=df[col].quantile(0.75)\n",
    "IQR=Q3-Q1\n",
    "LOWER_BOUND = Q1-1.5*IQR\n",
    "UPPER_BOUND = Q3+1.5*IQR\n",
    "outliers = df[(df[col] < LOWER_BOUND) | (df[col] > UPPER_BOUND)] \n",
    "print(outliers.shape[0])"
   ]
  },
  {
   "cell_type": "code",
   "execution_count": 21,
   "id": "e9b7b6f0-08ba-4d62-a0c3-8c2fce336eed",
   "metadata": {},
   "outputs": [],
   "source": [
    "df.to_csv(\"nulls_outliers-2024-cleaned.csv\", index=False)"
   ]
  },
  {
   "cell_type": "code",
   "execution_count": null,
   "id": "91a6f3a7-bd9d-4924-848c-2a8a03483aa5",
   "metadata": {},
   "outputs": [],
   "source": []
  }
 ],
 "metadata": {
  "kernelspec": {
   "display_name": "Python 3 (ipykernel)",
   "language": "python",
   "name": "python3"
  },
  "language_info": {
   "codemirror_mode": {
    "name": "ipython",
    "version": 3
   },
   "file_extension": ".py",
   "mimetype": "text/x-python",
   "name": "python",
   "nbconvert_exporter": "python",
   "pygments_lexer": "ipython3",
   "version": "3.12.7"
  }
 },
 "nbformat": 4,
 "nbformat_minor": 5
}
